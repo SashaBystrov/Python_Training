{
  "nbformat": 4,
  "nbformat_minor": 0,
  "metadata": {
    "colab": {
      "provenance": [],
      "toc_visible": true
    },
    "kernelspec": {
      "name": "python3",
      "display_name": "Python 3"
    },
    "language_info": {
      "name": "python"
    }
  },
  "cells": [
    {
      "cell_type": "markdown",
      "source": [
        "# **Решение задач в Numpy**"
      ],
      "metadata": {
        "id": "6aXvla42zBj-"
      }
    },
    {
      "cell_type": "markdown",
      "source": [
        "# Создание массивов"
      ],
      "metadata": {
        "id": "YrL5K0XzEjtR"
      }
    },
    {
      "cell_type": "markdown",
      "source": [
        "Создать вектор со значениями 1, 5, 2, 7, 4."
      ],
      "metadata": {
        "id": "t06ozE4mtfC5"
      }
    },
    {
      "cell_type": "code",
      "source": [
        "import numpy as np\n",
        "a = np.array([1, 5, 2, 7, 4])\n",
        "print(a)"
      ],
      "metadata": {
        "id": "dVbT9eGXtl8K",
        "colab": {
          "base_uri": "https://localhost:8080/"
        },
        "outputId": "d907a6e5-7542-4877-8d13-5ffa2aeca07d"
      },
      "execution_count": null,
      "outputs": [
        {
          "output_type": "stream",
          "name": "stdout",
          "text": [
            "[1 5 2 7 4]\n"
          ]
        }
      ]
    },
    {
      "cell_type": "markdown",
      "source": [
        "Создать вектор со значениями от 10 до 49 включительно."
      ],
      "metadata": {
        "id": "WKo89bFCHsMm"
      }
    },
    {
      "cell_type": "code",
      "source": [
        "#b = np.array([i for i in range(10, 50)])\n",
        "b = np.arange(10, 50)\n",
        "print(b)"
      ],
      "metadata": {
        "id": "heH2oK08VaVS",
        "colab": {
          "base_uri": "https://localhost:8080/"
        },
        "outputId": "03032cbd-d8c4-4d87-9b87-100b28af5b16"
      },
      "execution_count": null,
      "outputs": [
        {
          "output_type": "stream",
          "name": "stdout",
          "text": [
            "[10 11 12 13 14 15 16 17 18 19 20 21 22 23 24 25 26 27 28 29 30 31 32 33\n",
            " 34 35 36 37 38 39 40 41 42 43 44 45 46 47 48 49] [10 11 12 13 14 15 16 17 18 19 20 21 22 23 24 25 26 27 28 29 30 31 32 33\n",
            " 34 35 36 37 38 39 40 41 42 43 44 45 46 47 48 49]\n"
          ]
        }
      ]
    },
    {
      "cell_type": "markdown",
      "source": [
        "Создать вектор размера 10, заполненный числом 2,5."
      ],
      "metadata": {
        "id": "yiZnNqb-ISiU"
      }
    },
    {
      "cell_type": "code",
      "source": [
        "c = np.full(10, 2.5)\n",
        "print(c)"
      ],
      "metadata": {
        "id": "VdTVXu9sVdlO",
        "colab": {
          "base_uri": "https://localhost:8080/"
        },
        "outputId": "7c63095f-f3e0-4e8e-c772-7caa409d6907"
      },
      "execution_count": null,
      "outputs": [
        {
          "output_type": "stream",
          "name": "stdout",
          "text": [
            "[2.5 2.5 2.5 2.5 2.5 2.5 2.5 2.5 2.5 2.5]\n"
          ]
        }
      ]
    },
    {
      "cell_type": "markdown",
      "source": [
        "Создать вектор размера 10, заполненый нулями.\n"
      ],
      "metadata": {
        "id": "C0GrxEtOJfvY"
      }
    },
    {
      "cell_type": "code",
      "source": [
        "a = np.zeros(10)\n",
        "print(a)"
      ],
      "metadata": {
        "id": "pn5Q60SwVfea",
        "colab": {
          "base_uri": "https://localhost:8080/"
        },
        "outputId": "e7048d21-3ca1-431a-c78c-f06a2a560f5a"
      },
      "execution_count": null,
      "outputs": [
        {
          "output_type": "stream",
          "name": "stdout",
          "text": [
            "[0. 0. 0. 0. 0. 0. 0. 0. 0. 0.]\n"
          ]
        }
      ]
    },
    {
      "cell_type": "markdown",
      "source": [
        "Создать вектор из 30-ти случайных значений."
      ],
      "metadata": {
        "id": "Gdp7lv-bK2If"
      }
    },
    {
      "cell_type": "code",
      "source": [
        "b = np.empty(30)\n",
        "#c = np.random.rand(30)\n",
        "print(b)"
      ],
      "metadata": {
        "id": "5yJixadbVsMq",
        "colab": {
          "base_uri": "https://localhost:8080/"
        },
        "outputId": "39dea5da-f4ca-49cc-b9df-418b08a5636e"
      },
      "execution_count": null,
      "outputs": [
        {
          "output_type": "stream",
          "name": "stdout",
          "text": [
            "[6.67797585e-310 4.78350319e-310 1.94209461e+227 1.94533523e+227\n",
            " 2.43208811e-152 1.99803517e+161 6.01346953e-154 4.61912988e+281\n",
            " 2.11651649e+214 3.55946858e+180 2.58415091e+161 1.36723614e+161\n",
            " 2.20892684e+161 5.36835912e+252 3.99461109e+252 1.38519249e+219\n",
            " 1.48973054e+214 6.01334504e-154 4.67261572e+164 2.21705231e+068\n",
            " 6.01346953e-154 1.67501583e+243 2.57686994e+161 1.06842965e-258\n",
            " 2.87242302e-027 6.01334666e-154 3.68067497e+180 2.46345036e-154\n",
            " 2.65141253e+180 3.99461109e+252]\n"
          ]
        }
      ]
    },
    {
      "cell_type": "markdown",
      "source": [
        "Создать матрицу 2х3: первая строка - 1, 2, 3, вторая строка - 7, 4, 5."
      ],
      "metadata": {
        "id": "HuxdaxQByj9S"
      }
    },
    {
      "cell_type": "code",
      "source": [
        "c = np.array([[1, 2, 3],\n",
        "             [7, 4, 5,]])\n",
        "print(c)"
      ],
      "metadata": {
        "id": "x8RY0YjHV4AD",
        "colab": {
          "base_uri": "https://localhost:8080/"
        },
        "outputId": "77d19fb8-f35d-469f-8fae-9614fea5ffdf"
      },
      "execution_count": null,
      "outputs": [
        {
          "output_type": "stream",
          "name": "stdout",
          "text": [
            "[[1 2 3]\n",
            " [7 4 5]]\n"
          ]
        }
      ]
    },
    {
      "cell_type": "markdown",
      "source": [
        "Создать матрицу размера 3x3, преобразовав вектор со значениями от 0 до 8."
      ],
      "metadata": {
        "id": "rKi-HcR3PqvQ"
      }
    },
    {
      "cell_type": "code",
      "source": [
        "a = np.arange(9)\n",
        "b = a.reshape(3, 3)\n",
        "print(b)"
      ],
      "metadata": {
        "id": "s9QSkBmtWlkP",
        "colab": {
          "base_uri": "https://localhost:8080/"
        },
        "outputId": "d54a717a-297a-4d16-eeb2-3c78ca9e38ad"
      },
      "execution_count": null,
      "outputs": [
        {
          "output_type": "stream",
          "name": "stdout",
          "text": [
            "[[0 1 2]\n",
            " [3 4 5]\n",
            " [6 7 8]]\n"
          ]
        }
      ]
    },
    {
      "cell_type": "markdown",
      "source": [
        "Создать матрицу размером 4x2 со случайными вещественными значениями."
      ],
      "metadata": {
        "id": "J1IyissHP--z"
      }
    },
    {
      "cell_type": "code",
      "source": [
        "a = np.random.rand(4, 2)\n",
        "print(a)"
      ],
      "metadata": {
        "id": "em0Joqg9WuVd",
        "colab": {
          "base_uri": "https://localhost:8080/"
        },
        "outputId": "7a3a8f09-2a81-4a8e-c4d2-88a646cf9113"
      },
      "execution_count": null,
      "outputs": [
        {
          "output_type": "stream",
          "name": "stdout",
          "text": [
            "[[0.08362628 0.9145967 ]\n",
            " [0.39365198 0.22752867]\n",
            " [0.86106197 0.82638669]\n",
            " [0.30123562 0.92917775]]\n"
          ]
        }
      ]
    },
    {
      "cell_type": "markdown",
      "source": [
        "Создать матрицу 2х3 с целыми числами в диапазоне от 1 до 10."
      ],
      "metadata": {
        "id": "HcfZufbT0RbH"
      }
    },
    {
      "cell_type": "code",
      "source": [
        "a = np.random.randint(1, 11, (2, 3))\n",
        "print(a)"
      ],
      "metadata": {
        "id": "ELB2oQeWWwGj",
        "colab": {
          "base_uri": "https://localhost:8080/"
        },
        "outputId": "97ed6648-5a66-4f25-b049-d4d92a98b801"
      },
      "execution_count": null,
      "outputs": [
        {
          "output_type": "stream",
          "name": "stdout",
          "text": [
            "[[9 7 7]\n",
            " [3 9 6]]\n"
          ]
        }
      ]
    },
    {
      "cell_type": "markdown",
      "source": [
        "Создать матрицу 2 х 3 и заполнить ее цифрой семь."
      ],
      "metadata": {
        "id": "LBzynQJUx2HM"
      }
    },
    {
      "cell_type": "code",
      "source": [
        "a = np.full((2, 3), 7)\n",
        "print(a)"
      ],
      "metadata": {
        "id": "XXAB5bziWxKi",
        "colab": {
          "base_uri": "https://localhost:8080/"
        },
        "outputId": "a02783c4-8144-4b30-e467-463b41304884"
      },
      "execution_count": null,
      "outputs": [
        {
          "output_type": "stream",
          "name": "stdout",
          "text": [
            "[[7 7 7]\n",
            " [7 7 7]]\n"
          ]
        }
      ]
    },
    {
      "cell_type": "markdown",
      "source": [
        "Создать единичную матрицу 4х4."
      ],
      "metadata": {
        "id": "SHi3HBvuo0pp"
      }
    },
    {
      "cell_type": "code",
      "source": [
        "a = np.eye(4)\n",
        "print(a)"
      ],
      "metadata": {
        "id": "6u-zT6ofWyZG",
        "colab": {
          "base_uri": "https://localhost:8080/"
        },
        "outputId": "2389749d-7ed3-42e8-83a1-0d3c6747ab3d"
      },
      "execution_count": null,
      "outputs": [
        {
          "output_type": "stream",
          "name": "stdout",
          "text": [
            "[[1. 0. 0. 0.]\n",
            " [0. 1. 0. 0.]\n",
            " [0. 0. 1. 0.]\n",
            " [0. 0. 0. 1.]]\n"
          ]
        }
      ]
    },
    {
      "cell_type": "markdown",
      "source": [
        "# Индексирование массивов"
      ],
      "metadata": {
        "id": "5_WRW9ZMpHtv"
      }
    },
    {
      "cell_type": "markdown",
      "source": [
        "1. Создать вектор со значениями от 0 до 10.\n",
        "2. Вывести 1-й элемент массива.\n",
        "3. Вывести последний элемент массива.\n",
        "4. Вывести элементы массива с 3 по 7.\n",
        "5. Вывести первые 4 элемента массива.\n",
        "6. Вывести последние 3 элемента массива.\n",
        "7. Вывести элементы массива в обратном порядке.\n",
        "8. Вывести элементы массива с индексами 0, 1, 7."
      ],
      "metadata": {
        "id": "C5vH2pVpu-nb"
      }
    },
    {
      "cell_type": "code",
      "source": [
        "a = np.arange(11)\n",
        "print(a)\n",
        "print(a[0])\n",
        "print(a[-1])\n",
        "print(a[3:8])\n",
        "print(a[:4])\n",
        "print(a[7:])\n",
        "print(a[::-1])\n",
        "print(a[[0, 1, 7]])"
      ],
      "metadata": {
        "id": "1uZrTaj9X2k7",
        "colab": {
          "base_uri": "https://localhost:8080/"
        },
        "outputId": "a825ac12-9eb8-41c1-b838-da6abfe7ff8b"
      },
      "execution_count": null,
      "outputs": [
        {
          "output_type": "stream",
          "name": "stdout",
          "text": [
            "[ 0  1  2  3  4  5  6  7  8  9 10]\n",
            "0\n",
            "10\n",
            "[3 4 5 6 7]\n",
            "[0 1 2 3]\n",
            "[ 7  8  9 10]\n",
            "[10  9  8  7  6  5  4  3  2  1  0]\n",
            "[0 1 7]\n"
          ]
        }
      ]
    },
    {
      "cell_type": "markdown",
      "source": [
        "1. Создать матрицу размера 3x3 со значениями от 0 до 8.\n",
        "2. Вывести вторую строку матрицы.\n",
        "3. Вывести третий столбец матрицы.\n",
        "4. Вывести второй и третий элементы второй строки матрицы.\n",
        "5. Вывести первый и второй элементы третьего столбца матрицы.\n",
        "6. Вывести элемент матрицы, равный 0."
      ],
      "metadata": {
        "id": "-WUvRWxjUvy1"
      }
    },
    {
      "cell_type": "code",
      "source": [
        "b = np.arange(9)\n",
        "a = b.reshape(3, 3)\n",
        "print(a)\n",
        "print(a[1])\n",
        "print(a[:, 2])\n",
        "print(a[1, 1:])\n",
        "print(a[:2, 2])\n",
        "print(a[a==0])"
      ],
      "metadata": {
        "id": "x2MlSvWVX4Sj",
        "colab": {
          "base_uri": "https://localhost:8080/"
        },
        "outputId": "303ec3c1-4a62-45f8-bbcd-54441acb5167"
      },
      "execution_count": null,
      "outputs": [
        {
          "output_type": "stream",
          "name": "stdout",
          "text": [
            "[[0 1 2]\n",
            " [3 4 5]\n",
            " [6 7 8]]\n",
            "[3 4 5]\n",
            "[2 5 8]\n",
            "[4 5]\n",
            "[2 5]\n",
            "[0]\n"
          ]
        }
      ]
    },
    {
      "cell_type": "markdown",
      "source": [
        "# Арифметические операции над массивами"
      ],
      "metadata": {
        "id": "0iGdMuJYba6t"
      }
    },
    {
      "cell_type": "markdown",
      "source": [
        "1. Создать вектор со значениями от 0 до 5.\n",
        "2. Прибавить к элементам вектора 2.\n",
        "3. Умножить элементы вектора на 7.\n",
        "4. Разделить элементы вектора на 4.\n",
        "5. Возвести элементы вектора в 3-ю степень."
      ],
      "metadata": {
        "id": "yiXQATFlbe6b"
      }
    },
    {
      "cell_type": "code",
      "source": [
        "a = np.arange(6)\n",
        "print(a)\n",
        "a += 2\n",
        "print(a)\n",
        "a *= 7\n",
        "print(a)\n",
        "a //= 4\n",
        "print(a)\n",
        "a **= 3\n",
        "print(a)"
      ],
      "metadata": {
        "id": "-oIjy7lZcsS_",
        "colab": {
          "base_uri": "https://localhost:8080/"
        },
        "outputId": "6d6d1129-8ac9-4cff-8ad2-9a296cbe8f2b"
      },
      "execution_count": null,
      "outputs": [
        {
          "output_type": "stream",
          "name": "stdout",
          "text": [
            "[0 1 2 3 4 5]\n",
            "[2 3 4 5 6 7]\n",
            "[14 21 28 35 42 49]\n",
            "[ 3  5  7  8 10 12]\n",
            "[  27  125  343  512 1000 1728]\n"
          ]
        }
      ]
    },
    {
      "cell_type": "markdown",
      "source": [
        "1. Создать 2 вектора со значениями от 0 до 5.\n",
        "2. Реализовать поэлементное сложение векторов.\n",
        "3. Реализовать поэлементное умножение векторов.\n",
        "4. Реализовать поэлементное деление векторов."
      ],
      "metadata": {
        "id": "t5yI8tYIcv1E"
      }
    },
    {
      "cell_type": "code",
      "source": [
        "a = np.arange(6)\n",
        "b = np.arange(6)\n",
        "print(a)\n",
        "print(b)\n",
        "res = a + b\n",
        "print(res)\n",
        "res = a * b\n",
        "print(res)\n",
        "res = a // b\n",
        "print(res)"
      ],
      "metadata": {
        "id": "ODNaC65rdwOc",
        "colab": {
          "base_uri": "https://localhost:8080/"
        },
        "outputId": "232c2f36-3ba7-4e68-e0ba-8489170874b4"
      },
      "execution_count": null,
      "outputs": [
        {
          "output_type": "stream",
          "name": "stdout",
          "text": [
            "[0 1 2 3 4 5]\n",
            "[0 1 2 3 4 5]\n",
            "[ 0  2  4  6  8 10]\n",
            "[ 0  1  4  9 16 25]\n",
            "[0 1 1 1 1 1]\n"
          ]
        },
        {
          "output_type": "stream",
          "name": "stderr",
          "text": [
            "<ipython-input-61-bfdfb613374f>:9: RuntimeWarning: divide by zero encountered in floor_divide\n",
            "  res = a // b\n"
          ]
        }
      ]
    },
    {
      "cell_type": "markdown",
      "source": [
        "1. Создать две матрицы 2х3 из векторов со значениями от 0 до 5.\n",
        "2. Реализовать поэлементное сложение матриц.\n",
        "3. Реализовать поэлементное умножение матриц.\n",
        "4. Реализовать поэлементное деление матриц."
      ],
      "metadata": {
        "id": "LS_0QsWZd6pn"
      }
    },
    {
      "cell_type": "code",
      "source": [
        "a = np.arange(6)\n",
        "b = a.reshape(2, 3)\n",
        "c = np.arange(6)\n",
        "d = c.reshape(2, 3)\n",
        "print(b)\n",
        "print(d)\n",
        "print()\n",
        "print(b + d)\n",
        "print()\n",
        "print(b * d)\n",
        "print()\n",
        "print(b // d)"
      ],
      "metadata": {
        "id": "PzREK3tqekKv",
        "colab": {
          "base_uri": "https://localhost:8080/"
        },
        "outputId": "b887a1b7-1b5e-4fdd-b37d-d562bb799d9e"
      },
      "execution_count": null,
      "outputs": [
        {
          "output_type": "stream",
          "name": "stdout",
          "text": [
            "[[0 1 2]\n",
            " [3 4 5]]\n",
            "[[0 1 2]\n",
            " [3 4 5]]\n",
            "\n",
            "[[ 0  2  4]\n",
            " [ 6  8 10]]\n",
            "\n",
            "[[ 0  1  4]\n",
            " [ 9 16 25]]\n",
            "\n",
            "[[0 1 1]\n",
            " [1 1 1]]\n"
          ]
        },
        {
          "output_type": "stream",
          "name": "stderr",
          "text": [
            "<ipython-input-60-18e006aa8b54>:12: RuntimeWarning: divide by zero encountered in floor_divide\n",
            "  print(b // d)\n"
          ]
        }
      ]
    },
    {
      "cell_type": "markdown",
      "source": [
        "# Логические операции над массивами"
      ],
      "metadata": {
        "id": "3WGOoO0gbHph"
      }
    },
    {
      "cell_type": "markdown",
      "source": [
        "Создать матрицу размера 3x3 из векторов со значениями от 0 до 8.\n",
        "1. Вывести элементы матрицы, значения которых больше или равны 5.\n",
        "2. Вывести элементы матрицы, значения которых меньше 2 и больше 7.\n",
        "3. Вывести элементы матрицы, значения которых лежат в диапазоне [3; 6)."
      ],
      "metadata": {
        "id": "dbWqSY3vjmok"
      }
    },
    {
      "cell_type": "code",
      "source": [
        "a = np.arange(9)\n",
        "b = a.reshape(3, 3)\n",
        "\n",
        "print(b[b>=5])\n",
        "print(b[(b<2)| (b>7)])\n",
        "print(b[(b>=3) & (b<6)])"
      ],
      "metadata": {
        "id": "SsiEWujXjn-6",
        "colab": {
          "base_uri": "https://localhost:8080/"
        },
        "outputId": "dabe92fc-9c9e-4828-cf55-7a3c4a5fe916"
      },
      "execution_count": null,
      "outputs": [
        {
          "output_type": "stream",
          "name": "stdout",
          "text": [
            "[5 6 7 8]\n",
            "[0 1 8]\n",
            "[3 4 5]\n"
          ]
        }
      ]
    },
    {
      "cell_type": "markdown",
      "source": [
        "# Операции с массивами"
      ],
      "metadata": {
        "id": "X1kK4QPi26Xq"
      }
    },
    {
      "cell_type": "markdown",
      "source": [
        "## Изменение формы массива"
      ],
      "metadata": {
        "id": "5q3cAJJDq_Nl"
      }
    },
    {
      "cell_type": "markdown",
      "source": [
        "Создать произвольную матрицу матрицу размера 3x4 и преобразовать ее в одномерный массив."
      ],
      "metadata": {
        "id": "LAquYCUZrIip"
      }
    },
    {
      "cell_type": "code",
      "source": [
        "a = np.random.rand(3, 4)\n",
        "b = a.flatten()\n",
        "print(b)"
      ],
      "metadata": {
        "id": "jXew4teQuYsz",
        "colab": {
          "base_uri": "https://localhost:8080/"
        },
        "outputId": "5ef0ceb4-530d-41f8-fb5a-823bee18bea4"
      },
      "execution_count": null,
      "outputs": [
        {
          "output_type": "stream",
          "name": "stdout",
          "text": [
            "[0.24469346 0.61754318 0.98516339 0.84858266 0.83946715 0.12392351\n",
            " 0.56946479 0.57043413 0.33290833 0.70870634 0.71032249 0.01451477]\n"
          ]
        }
      ]
    },
    {
      "cell_type": "markdown",
      "source": [
        "Создать вектор из 12 элементов и преобразовать его в матрицу:\n",
        "- 3 х 4;\n",
        "- 2 х 6;\n",
        "- 5 х 3."
      ],
      "metadata": {
        "id": "opkpbfT1s_Ek"
      }
    },
    {
      "cell_type": "code",
      "source": [
        "a = np.arange(1, 13)\n",
        "print(a)\n",
        "print()\n",
        "b = a.reshape(3, 4)\n",
        "print(b)\n",
        "print()\n",
        "c = a.reshape(2, 6)\n",
        "print(c)\n",
        "d = a.reshape(5, 4) #Ошибка"
      ],
      "metadata": {
        "id": "1k5aLXgquawJ",
        "colab": {
          "base_uri": "https://localhost:8080/",
          "height": 315
        },
        "outputId": "949f7f44-0863-400c-b946-46e9c8598f57"
      },
      "execution_count": null,
      "outputs": [
        {
          "output_type": "stream",
          "name": "stdout",
          "text": [
            "[ 1  2  3  4  5  6  7  8  9 10 11 12]\n",
            "\n",
            "[[ 1  2  3  4]\n",
            " [ 5  6  7  8]\n",
            " [ 9 10 11 12]]\n",
            "\n",
            "[[ 1  2  3  4  5  6]\n",
            " [ 7  8  9 10 11 12]]\n"
          ]
        },
        {
          "output_type": "error",
          "ename": "ValueError",
          "evalue": "cannot reshape array of size 12 into shape (5,4)",
          "traceback": [
            "\u001b[0;31m---------------------------------------------------------------------------\u001b[0m",
            "\u001b[0;31mValueError\u001b[0m                                Traceback (most recent call last)",
            "\u001b[0;32m<ipython-input-79-9b551c3bf3f8>\u001b[0m in \u001b[0;36m<cell line: 9>\u001b[0;34m()\u001b[0m\n\u001b[1;32m      7\u001b[0m \u001b[0mc\u001b[0m \u001b[0;34m=\u001b[0m \u001b[0ma\u001b[0m\u001b[0;34m.\u001b[0m\u001b[0mreshape\u001b[0m\u001b[0;34m(\u001b[0m\u001b[0;36m2\u001b[0m\u001b[0;34m,\u001b[0m \u001b[0;36m6\u001b[0m\u001b[0;34m)\u001b[0m\u001b[0;34m\u001b[0m\u001b[0;34m\u001b[0m\u001b[0m\n\u001b[1;32m      8\u001b[0m \u001b[0mprint\u001b[0m\u001b[0;34m(\u001b[0m\u001b[0mc\u001b[0m\u001b[0;34m)\u001b[0m\u001b[0;34m\u001b[0m\u001b[0;34m\u001b[0m\u001b[0m\n\u001b[0;32m----> 9\u001b[0;31m \u001b[0md\u001b[0m \u001b[0;34m=\u001b[0m \u001b[0ma\u001b[0m\u001b[0;34m.\u001b[0m\u001b[0mreshape\u001b[0m\u001b[0;34m(\u001b[0m\u001b[0;36m5\u001b[0m\u001b[0;34m,\u001b[0m \u001b[0;36m4\u001b[0m\u001b[0;34m)\u001b[0m \u001b[0;31m#Ошибка\u001b[0m\u001b[0;34m\u001b[0m\u001b[0;34m\u001b[0m\u001b[0m\n\u001b[0m",
            "\u001b[0;31mValueError\u001b[0m: cannot reshape array of size 12 into shape (5,4)"
          ]
        }
      ]
    },
    {
      "cell_type": "markdown",
      "source": [
        "Создать вектор из 12 элементов и преобразовать его в массив размерностью 1 х 12."
      ],
      "metadata": {
        "id": "TevMveYQtuzY"
      }
    },
    {
      "cell_type": "code",
      "source": [
        "a = np.arange(1, 13)\n",
        "a.reshape(1, 12)\n",
        "a"
      ],
      "metadata": {
        "id": "YvVuzwp4ucVJ",
        "colab": {
          "base_uri": "https://localhost:8080/"
        },
        "outputId": "5fa9f010-f5a2-4785-92ff-4dc9217c8435"
      },
      "execution_count": null,
      "outputs": [
        {
          "output_type": "execute_result",
          "data": {
            "text/plain": [
              "array([ 1,  2,  3,  4,  5,  6,  7,  8,  9, 10, 11, 12])"
            ]
          },
          "metadata": {},
          "execution_count": 83
        }
      ]
    },
    {
      "cell_type": "markdown",
      "source": [
        "## Замена элементов массивов"
      ],
      "metadata": {
        "id": "0SiLf1xT9h6O"
      }
    },
    {
      "cell_type": "markdown",
      "source": [
        "Создать вектор со значениями 1, 5, 2, 7, 4 и изменить 2-й элемент на 9."
      ],
      "metadata": {
        "id": "gf3bJ7fXuguY"
      }
    },
    {
      "cell_type": "code",
      "source": [
        "a = np.array([1, 5, 2, 7, 4])\n",
        "print(a)\n",
        "a[1] = 9\n",
        "a"
      ],
      "metadata": {
        "id": "w4VB2YsEugur",
        "colab": {
          "base_uri": "https://localhost:8080/"
        },
        "outputId": "67ac0eee-13dc-46a9-f0bc-67db1bcda3a6"
      },
      "execution_count": null,
      "outputs": [
        {
          "output_type": "stream",
          "name": "stdout",
          "text": [
            "[1 5 2 7 4]\n"
          ]
        },
        {
          "output_type": "execute_result",
          "data": {
            "text/plain": [
              "array([1, 9, 2, 7, 4])"
            ]
          },
          "metadata": {},
          "execution_count": 86
        }
      ]
    },
    {
      "cell_type": "markdown",
      "source": [
        "Создать вектор с 10-ю случайными значениям и заменить максимальный элемент на ноль.\n"
      ],
      "metadata": {
        "id": "WgrIEM5BvP6r"
      }
    },
    {
      "cell_type": "code",
      "source": [
        "a = np.random.rand(10)\n",
        "print(a)\n",
        "max_index = np.argmax(a)\n",
        "a[max_index] = 0\n",
        "print(a)"
      ],
      "metadata": {
        "id": "gjJbD5yppMC-",
        "colab": {
          "base_uri": "https://localhost:8080/"
        },
        "outputId": "e35028bc-1d1d-43d4-9a1c-70e871ade9bd"
      },
      "execution_count": null,
      "outputs": [
        {
          "output_type": "stream",
          "name": "stdout",
          "text": [
            "[0.17221806 0.42109152 0.95116063 0.14707495 0.04440606 0.0318366\n",
            " 0.05632467 0.57175841 0.77027538 0.46431886]\n",
            "[0.17221806 0.42109152 0.         0.14707495 0.04440606 0.0318366\n",
            " 0.05632467 0.57175841 0.77027538 0.46431886]\n"
          ]
        }
      ]
    },
    {
      "cell_type": "markdown",
      "source": [
        "Создать вектор со значениями [4, 5, 5, 7, 8, 8, 9, 12].\n",
        "1. Заменить все элементы, равные 8 на 17.\n",
        "2. Заменить все элементы, меньше 5 на 15.\n",
        "3. Заменить все элементы, больше 5 и меньше или равные 7 на 30."
      ],
      "metadata": {
        "id": "8NbEfrhd-U17"
      }
    },
    {
      "cell_type": "code",
      "source": [
        "a = np.array([4, 5, 5, 7, 8, 8, 9, 12])\n",
        "a[a==8] = 17\n",
        "a"
      ],
      "metadata": {
        "id": "39W0BtwppO8F",
        "colab": {
          "base_uri": "https://localhost:8080/"
        },
        "outputId": "97f3afb3-ecc6-469f-9f69-2afa3a097e78"
      },
      "execution_count": null,
      "outputs": [
        {
          "output_type": "execute_result",
          "data": {
            "text/plain": [
              "array([ 4,  5,  5,  7, 17, 17,  9, 12])"
            ]
          },
          "metadata": {},
          "execution_count": 94
        }
      ]
    },
    {
      "cell_type": "markdown",
      "source": [
        "Создать матрицу 2х3 и заполнить ее целыми случайными значениями в диапазоне от 0 до 10. Заменить элемент с индексом (2, 1) на значение 100."
      ],
      "metadata": {
        "id": "r3iIiyM2IDwL"
      }
    },
    {
      "cell_type": "code",
      "source": [
        "a = np.random.randint(0, 10, (2, 3))\n",
        "print(a)\n",
        "a[2][1] = 100\n",
        "print(a)"
      ],
      "metadata": {
        "id": "5TQFwCUOpX7K",
        "colab": {
          "base_uri": "https://localhost:8080/",
          "height": 228
        },
        "outputId": "404ca7a3-3253-4543-ed62-5b5e72bb0a1d"
      },
      "execution_count": null,
      "outputs": [
        {
          "output_type": "stream",
          "name": "stdout",
          "text": [
            "[[5 2 6]\n",
            " [4 4 8]]\n"
          ]
        },
        {
          "output_type": "error",
          "ename": "IndexError",
          "evalue": "index 2 is out of bounds for axis 0 with size 2",
          "traceback": [
            "\u001b[0;31m---------------------------------------------------------------------------\u001b[0m",
            "\u001b[0;31mIndexError\u001b[0m                                Traceback (most recent call last)",
            "\u001b[0;32m<ipython-input-99-54f0901c0a2d>\u001b[0m in \u001b[0;36m<cell line: 3>\u001b[0;34m()\u001b[0m\n\u001b[1;32m      1\u001b[0m \u001b[0ma\u001b[0m \u001b[0;34m=\u001b[0m \u001b[0mnp\u001b[0m\u001b[0;34m.\u001b[0m\u001b[0mrandom\u001b[0m\u001b[0;34m.\u001b[0m\u001b[0mrandint\u001b[0m\u001b[0;34m(\u001b[0m\u001b[0;36m0\u001b[0m\u001b[0;34m,\u001b[0m \u001b[0;36m10\u001b[0m\u001b[0;34m,\u001b[0m \u001b[0;34m(\u001b[0m\u001b[0;36m2\u001b[0m\u001b[0;34m,\u001b[0m \u001b[0;36m3\u001b[0m\u001b[0;34m)\u001b[0m\u001b[0;34m)\u001b[0m\u001b[0;34m\u001b[0m\u001b[0;34m\u001b[0m\u001b[0m\n\u001b[1;32m      2\u001b[0m \u001b[0mprint\u001b[0m\u001b[0;34m(\u001b[0m\u001b[0ma\u001b[0m\u001b[0;34m)\u001b[0m\u001b[0;34m\u001b[0m\u001b[0;34m\u001b[0m\u001b[0m\n\u001b[0;32m----> 3\u001b[0;31m \u001b[0ma\u001b[0m\u001b[0;34m[\u001b[0m\u001b[0;36m2\u001b[0m\u001b[0;34m]\u001b[0m\u001b[0;34m[\u001b[0m\u001b[0;36m1\u001b[0m\u001b[0;34m]\u001b[0m \u001b[0;34m=\u001b[0m \u001b[0;36m100\u001b[0m\u001b[0;34m\u001b[0m\u001b[0;34m\u001b[0m\u001b[0m\n\u001b[0m\u001b[1;32m      4\u001b[0m \u001b[0mprint\u001b[0m\u001b[0;34m(\u001b[0m\u001b[0ma\u001b[0m\u001b[0;34m)\u001b[0m\u001b[0;34m\u001b[0m\u001b[0;34m\u001b[0m\u001b[0m\n",
            "\u001b[0;31mIndexError\u001b[0m: index 2 is out of bounds for axis 0 with size 2"
          ]
        }
      ]
    },
    {
      "cell_type": "markdown",
      "source": [
        "## Сортировка массивов"
      ],
      "metadata": {
        "id": "BPa9Ges8-CRp"
      }
    },
    {
      "cell_type": "markdown",
      "source": [
        "Создать вектор и отсортировать его элементы по убыванию и возрастанию значений."
      ],
      "metadata": {
        "id": "8YljT3lXVEue"
      }
    },
    {
      "cell_type": "code",
      "source": [
        "a = np.array([3, 4, 9, 3, 0, 203, 23, -2])\n",
        "print(np.sort(a))\n",
        "print(np.sort(a)[::-1])"
      ],
      "metadata": {
        "id": "hekmJDl8pcZA",
        "colab": {
          "base_uri": "https://localhost:8080/"
        },
        "outputId": "fa007118-a9f8-42c2-c5b4-fe3f5e374cad"
      },
      "execution_count": null,
      "outputs": [
        {
          "output_type": "stream",
          "name": "stdout",
          "text": [
            "[ -2   0   3   3   4   9  23 203]\n",
            "[203  23   9   4   3   3   0  -2]\n"
          ]
        }
      ]
    },
    {
      "cell_type": "markdown",
      "source": [
        "\n",
        "Создать матрицу 4х6 и заполнить ее случайными целыми значениями в диапазоне от 0 до 10. Отсортировать созданную матрицу по возрастанию по строкам и столбцам."
      ],
      "metadata": {
        "id": "MXstg6hb2_5O"
      }
    },
    {
      "cell_type": "code",
      "source": [
        "a = np.random.randint(0, 11, (4, 6))\n",
        "print(a)\n",
        "print(np.sort(a)) # Сортировка по строкам\n",
        "print(np.sort(a, axis=0)) # Сортировка по столбцам"
      ],
      "metadata": {
        "id": "mrs9gKqdpfsI",
        "colab": {
          "base_uri": "https://localhost:8080/"
        },
        "outputId": "cf49e0d6-a6d9-41f8-a3c3-9a8de1677fbd"
      },
      "execution_count": null,
      "outputs": [
        {
          "output_type": "stream",
          "name": "stdout",
          "text": [
            "[[ 0  8  7 10  6  8]\n",
            " [ 3  9  0  1  5  2]\n",
            " [ 1  3  3  7  3  6]\n",
            " [10  9  2  4  2  5]]\n",
            "[[ 0  6  7  8  8 10]\n",
            " [ 0  1  2  3  5  9]\n",
            " [ 1  3  3  3  6  7]\n",
            " [ 2  2  4  5  9 10]]\n",
            "[[ 0  3  0  1  2  2]\n",
            " [ 1  8  2  4  3  5]\n",
            " [ 3  9  3  7  5  6]\n",
            " [10  9  7 10  6  8]]\n"
          ]
        }
      ]
    },
    {
      "cell_type": "markdown",
      "source": [
        "Создать матрицу 5х5 со случайными элементами и отсортировать ее по 3-му столбцу.\n"
      ],
      "metadata": {
        "id": "ZJ6ONtvhQQnQ"
      }
    },
    {
      "cell_type": "code",
      "source": [
        "a = np.random.randint(0, 11, (5, 5))\n",
        "print(a)\n",
        "b = np.argsort(a[:, 2])\n",
        "a = a[b]\n",
        "print(a)"
      ],
      "metadata": {
        "id": "i4swDdTepwr8",
        "colab": {
          "base_uri": "https://localhost:8080/"
        },
        "outputId": "546d0a6e-65e7-42c1-9fc9-f986915d09b4"
      },
      "execution_count": null,
      "outputs": [
        {
          "output_type": "stream",
          "name": "stdout",
          "text": [
            "[[ 0  4  5  8  4]\n",
            " [ 6  7 10  7  3]\n",
            " [ 1  4  8  6  6]\n",
            " [ 9  2 10  7  3]\n",
            " [ 6  4  6  9  4]]\n",
            "[[ 0  4  5  8  4]\n",
            " [ 6  4  6  9  4]\n",
            " [ 1  4  8  6  6]\n",
            " [ 6  7 10  7  3]\n",
            " [ 9  2 10  7  3]]\n"
          ]
        }
      ]
    },
    {
      "cell_type": "markdown",
      "source": [
        "## Объединение и разделение массивов, добавление элементов"
      ],
      "metadata": {
        "id": "gE0br1yLp7q4"
      }
    },
    {
      "cell_type": "markdown",
      "source": [
        "Создать вектор с элементами от 1 до 7.\n",
        "1. Добавить в конец значение 8.\n",
        "2. Добавить в конец массив 9, 10, 11."
      ],
      "metadata": {
        "id": "sGnD3MXmdSNu"
      }
    },
    {
      "cell_type": "code",
      "source": [
        "a = np.arange(1, 8)\n",
        "print(a)\n",
        "b = np.append(a, 8)\n",
        "print(b)"
      ],
      "metadata": {
        "id": "r6wUIcnDp2T7",
        "colab": {
          "base_uri": "https://localhost:8080/"
        },
        "outputId": "699edb85-166e-4d0c-d171-ecc021721cca"
      },
      "execution_count": null,
      "outputs": [
        {
          "output_type": "stream",
          "name": "stdout",
          "text": [
            "[1 2 3 4 5 6 7]\n",
            "[1 2 3 4 5 6 7 8]\n"
          ]
        }
      ]
    },
    {
      "cell_type": "markdown",
      "source": [
        "Создать 2 вектора `[1, 2, 3, 4]` и `[5, 6, 7, 8]`.\n",
        "\n",
        "1. Объединить вектора в один вектор.\n",
        "2. Объединить вектора в матрицу 2х4.\n",
        "3. Объединить вектора в матрицу 4х2."
      ],
      "metadata": {
        "id": "mJ1K65uiqMZK"
      }
    },
    {
      "cell_type": "code",
      "source": [
        "import numpy as np\n",
        "a = np.array([1, 2, 3, 4])\n",
        "b = np.array([5, 6, 7, 8])\n",
        "#print(np.concatenate([a, b]))\n",
        "print(np.hstack([a, b]))\n",
        "print(np.hstack([a, b]).reshape((2,4)))\n",
        "#print(np.vstack([a, b]).reshape((4,2)))\n",
        "print(np.column_stack([a,b]))"
      ],
      "metadata": {
        "id": "cNySPhhTp4_5",
        "colab": {
          "base_uri": "https://localhost:8080/"
        },
        "outputId": "6d6530bd-c77e-4746-e699-2db951536830"
      },
      "execution_count": 2,
      "outputs": [
        {
          "output_type": "stream",
          "name": "stdout",
          "text": [
            "[1 2 3 4 5 6 7 8]\n",
            "[[1 2 3 4]\n",
            " [5 6 7 8]]\n",
            "[[1 5]\n",
            " [2 6]\n",
            " [3 7]\n",
            " [4 8]]\n"
          ]
        }
      ]
    },
    {
      "cell_type": "markdown",
      "source": [
        "Создать 2 матрицы 2х2: первая содержит элементы от 1 до 4, вторая от 5 до 8.\n",
        "\n",
        "1. Сформировать матрицу 2х4.\n",
        "2. Сформировать матрицу 4х2."
      ],
      "metadata": {
        "id": "0p9T4tGJxb_3"
      }
    },
    {
      "cell_type": "code",
      "source": [
        "a = np.array([[1, 2], [3, 4]])\n",
        "b = np.array([[5, 6], [7, 8]])\n",
        "\n",
        "print(np.hstack([a, b]))\n",
        "print(np.vstack([a, b]))"
      ],
      "metadata": {
        "id": "KST80xNlp7ih",
        "colab": {
          "base_uri": "https://localhost:8080/"
        },
        "outputId": "b72fe4ae-0213-4289-b7ea-e8cf8316ab6d"
      },
      "execution_count": null,
      "outputs": [
        {
          "output_type": "stream",
          "name": "stdout",
          "text": [
            "[[1 2 5 6]\n",
            " [3 4 7 8]]\n",
            "[[1 2]\n",
            " [3 4]\n",
            " [5 6]\n",
            " [7 8]]\n"
          ]
        }
      ]
    },
    {
      "cell_type": "markdown",
      "source": [
        "Создать вектор `[1, 2, 2, 3, 5, 6, 7, 10]`.\n",
        "1. Добавить в конец массива число 12.\n",
        "2. Вставить число 9 между числами 7 и 10."
      ],
      "metadata": {
        "id": "8M9m1BR94wWF"
      }
    },
    {
      "cell_type": "code",
      "source": [
        "a = np.array([1, 2, 2, 3, 5, 6, 7, 10])\n",
        "a = np.append(a, 12)\n",
        "print(a)\n",
        "a = np.insert(a, 7, 9)\n",
        "print(a)"
      ],
      "metadata": {
        "id": "L_sBEGqTqBD3",
        "colab": {
          "base_uri": "https://localhost:8080/"
        },
        "outputId": "06102fd3-938b-4da5-fbb9-01cf1def2aa9"
      },
      "execution_count": null,
      "outputs": [
        {
          "output_type": "stream",
          "name": "stdout",
          "text": [
            "[ 1  2  2  3  5  6  7 10 12]\n",
            "[ 1  2  2  3  5  6  7  9 10 12]\n"
          ]
        }
      ]
    },
    {
      "cell_type": "markdown",
      "source": [
        "Создать произвольную матрицу и добавить строку."
      ],
      "metadata": {
        "id": "DchkDK3O1ICq"
      }
    },
    {
      "cell_type": "code",
      "source": [
        "a = np.array([[1, 2, 3], [4, 5, 6]])\n",
        "b = np.array([7, 8, 9])\n",
        "a = np.vstack([a, b])\n",
        "print(a)\n",
        "#a = np.insert(a, 2, b, axis=0)\n",
        "#print(a)"
      ],
      "metadata": {
        "id": "u9aE4YhdqEfP",
        "colab": {
          "base_uri": "https://localhost:8080/"
        },
        "outputId": "b4bf3d1b-9fe3-404b-b7a2-2488c3703005"
      },
      "execution_count": null,
      "outputs": [
        {
          "output_type": "stream",
          "name": "stdout",
          "text": [
            "[[1 2 3]\n",
            " [4 5 6]\n",
            " [7 8 9]]\n"
          ]
        }
      ]
    },
    {
      "cell_type": "markdown",
      "source": [
        "Создать произвольную матрицу и добавить столбец."
      ],
      "metadata": {
        "id": "OyWOg6pf2s3b"
      }
    },
    {
      "cell_type": "code",
      "source": [
        "a = np.array([[1, 2, 3], [4, 5, 6]])\n",
        "b = np.array([7, 8])\n",
        "#a = np.hstack([a, b[:, np.newaxis]])\n",
        "#print(a)\n",
        "a = np.insert(a, 3, b, axis=1)\n",
        "print(a)"
      ],
      "metadata": {
        "id": "juIB1u1FqF_f",
        "colab": {
          "base_uri": "https://localhost:8080/"
        },
        "outputId": "02a55df5-e8d4-41f9-b7ff-5d8ff07a3881"
      },
      "execution_count": 8,
      "outputs": [
        {
          "output_type": "stream",
          "name": "stdout",
          "text": [
            "[[1 2 3 7]\n",
            " [4 5 6 8]]\n"
          ]
        }
      ]
    },
    {
      "cell_type": "markdown",
      "source": [
        "Создать произвольную матрицу размера 3х4.\n",
        "1. Вставить столбец между 1-м и 2-м столбцами.\n",
        "2. Вставить строку между 2-й и 3-й строками."
      ],
      "metadata": {
        "id": "vew1z-Ci6XDt"
      }
    },
    {
      "cell_type": "code",
      "source": [
        "a = np.array([[1, 2, 3, 4], [ 5, 6, 7, 8], [9, 10, 11, 12]])\n",
        "b = np.array([0, 0, 0])\n",
        "print(np.insert(a, 1, b, axis=1))\n",
        "print(np.insert(a, 2, b, axis=1))"
      ],
      "metadata": {
        "id": "0zzJunm6qKLO",
        "colab": {
          "base_uri": "https://localhost:8080/"
        },
        "outputId": "ea09d9b8-5979-4289-e935-c9391ef7ba01"
      },
      "execution_count": 12,
      "outputs": [
        {
          "output_type": "stream",
          "name": "stdout",
          "text": [
            "[[ 1  0  2  3  4]\n",
            " [ 5  0  6  7  8]\n",
            " [ 9  0 10 11 12]]\n",
            "[[ 1  2  0  3  4]\n",
            " [ 5  6  0  7  8]\n",
            " [ 9 10  0 11 12]]\n"
          ]
        }
      ]
    },
    {
      "cell_type": "markdown",
      "source": [
        "Создать вектор со значениями от 1 до 8. Разделить вектор на два вектора."
      ],
      "metadata": {
        "id": "pk4PVBSJfgBc"
      }
    },
    {
      "cell_type": "code",
      "source": [
        "a = np.arange(1, 9)\n",
        "print(np.split(a, 2))"
      ],
      "metadata": {
        "id": "WOgmsiKXqVOc",
        "colab": {
          "base_uri": "https://localhost:8080/"
        },
        "outputId": "f632865f-74ed-4c95-ea4e-d272340d2a6d"
      },
      "execution_count": 13,
      "outputs": [
        {
          "output_type": "stream",
          "name": "stdout",
          "text": [
            "[array([1, 2, 3, 4]), array([5, 6, 7, 8])]\n"
          ]
        }
      ]
    },
    {
      "cell_type": "markdown",
      "source": [
        "Создать матрицу 4х4 со значениями от 1 до 17.\n",
        "1. Разделить ее на 2 матрицы размером 4х2.\n",
        "2. Разделить ее на 2 матрицы размером 2х4."
      ],
      "metadata": {
        "id": "4q09jJTHga9O"
      }
    },
    {
      "cell_type": "code",
      "source": [
        "a = np.arange(1, 17).reshape(4, 4)\n",
        "b1 = a[:, :2]\n",
        "b2 = a[:, 2:]\n",
        "print(b1)\n",
        "print(b2)\n",
        "c1 = a[:2, :]\n",
        "c2 = a[2:, :]\n",
        "print(c1)\n",
        "print(c2)"
      ],
      "metadata": {
        "id": "7tTPtKFfqXms",
        "colab": {
          "base_uri": "https://localhost:8080/"
        },
        "outputId": "83099f81-8c29-4ce6-ede9-9e4c3426fa3d"
      },
      "execution_count": 30,
      "outputs": [
        {
          "output_type": "stream",
          "name": "stdout",
          "text": [
            "[[ 1  2]\n",
            " [ 5  6]\n",
            " [ 9 10]\n",
            " [13 14]]\n",
            "[[ 3  4]\n",
            " [ 7  8]\n",
            " [11 12]\n",
            " [15 16]]\n",
            "[[1 2 3 4]\n",
            " [5 6 7 8]]\n",
            "[[ 9 10 11 12]\n",
            " [13 14 15 16]]\n"
          ]
        }
      ]
    },
    {
      "cell_type": "markdown",
      "source": [
        "# Математические функции для работы с массивами"
      ],
      "metadata": {
        "id": "WYsLHJAx8Bxx"
      }
    },
    {
      "cell_type": "markdown",
      "source": [
        "Создать матрицу 3х4 из элементов `[7, 1, 7, 8, 4, 2, 4, 5, 3, 5, 2, 3]`.\n",
        "1. Найти минимальный и максимальный элементы матрицы.\n",
        "2. Найти индексы минимального и максимального элементов матрицы.\n",
        "3. Найти сумму всех элементов матрицы.\n",
        "4. Найти среднее арифметическое всех элементов матрицы."
      ],
      "metadata": {
        "id": "bWcH_mPf8HhK"
      }
    },
    {
      "cell_type": "code",
      "source": [
        "a = np.array([7, 1, 7, 8, 4, 2, 4, 5, 3, 5, 2, 3]).reshape(3,4)\n",
        "print(a)\n",
        "print(np.argmin(a), np.argmax(a))\n",
        "print(np.sum(a))\n",
        "print(np.mean(a))"
      ],
      "metadata": {
        "id": "4R_rtFknqcwa",
        "colab": {
          "base_uri": "https://localhost:8080/"
        },
        "outputId": "4f601112-9bd8-48e5-ace2-e874e9f44c7a"
      },
      "execution_count": 37,
      "outputs": [
        {
          "output_type": "stream",
          "name": "stdout",
          "text": [
            "[[7 1 7 8]\n",
            " [4 2 4 5]\n",
            " [3 5 2 3]]\n",
            "1 3\n",
            "51\n",
            "4.25\n"
          ]
        }
      ]
    },
    {
      "cell_type": "markdown",
      "source": [
        "Найти в каждой строке и каждом столбце:\n",
        "- минимальные и максимальные элементы;\n",
        "- суммы элементов и их среднее арифметическое."
      ],
      "metadata": {
        "id": "6c4VxNcoG7Tw"
      }
    },
    {
      "cell_type": "code",
      "source": [
        "print(np.min(a, axis=1), np.max(a, axis=1)) # Строки\n",
        "print(np.min(a, axis=0), np.max(a, axis=0)) # Столбцы\n",
        "print(np.sum(a, axis=1), np.mean(a, axis=1)) # Строки\n",
        "print(np.sum(a, axis=0), np.mean(a, axis=0)) # Столбцы"
      ],
      "metadata": {
        "id": "Utre9UpPqfcS",
        "colab": {
          "base_uri": "https://localhost:8080/"
        },
        "outputId": "d6b3bea7-316b-474b-bffc-7b7449fd4bf6"
      },
      "execution_count": 40,
      "outputs": [
        {
          "output_type": "stream",
          "name": "stdout",
          "text": [
            "[1 2 2] [8 5 5]\n",
            "[3 1 2 3] [7 5 7 8]\n",
            "[23 15 13] [5.75 3.75 3.25]\n",
            "[14  8 13 16] [4.66666667 2.66666667 4.33333333 5.33333333]\n"
          ]
        }
      ]
    },
    {
      "cell_type": "markdown",
      "source": [
        "# Элементы линейной алгебры"
      ],
      "metadata": {
        "id": "yHJX5uMI2jY4"
      }
    },
    {
      "cell_type": "markdown",
      "source": [
        "Создать произвольные вектора и найти их скалярное произведение."
      ],
      "metadata": {
        "id": "o_DuutH1u0e9"
      }
    },
    {
      "cell_type": "code",
      "source": [
        "a = np.array([1, 2, 3, 4, 5])\n",
        "b = np.array([6, 7, 8, 9, 10])\n",
        "print(np.dot(a,b))"
      ],
      "metadata": {
        "id": "CfChTDmcu0fT",
        "colab": {
          "base_uri": "https://localhost:8080/"
        },
        "outputId": "6549a80f-6d68-4f9b-d789-143b6f6d88e7"
      },
      "execution_count": 42,
      "outputs": [
        {
          "output_type": "stream",
          "name": "stdout",
          "text": [
            "130\n"
          ]
        }
      ]
    },
    {
      "cell_type": "markdown",
      "source": [
        "Создать произвольную матрицу и вектор и найти их скалярное произведение."
      ],
      "metadata": {
        "id": "vKOPgFL6unbi"
      }
    },
    {
      "cell_type": "code",
      "source": [
        "a = np.array([1, 2, 3])\n",
        "b = np.array([[4, 5, 6],\n",
        "             [7, 8, 9],\n",
        "             [10, 11, 12]])\n",
        "print(np.dot(b, a))"
      ],
      "metadata": {
        "id": "XsmA5kemun2V",
        "colab": {
          "base_uri": "https://localhost:8080/"
        },
        "outputId": "3da99d87-824d-458b-c3bb-c96ee130a0bf"
      },
      "execution_count": 45,
      "outputs": [
        {
          "output_type": "stream",
          "name": "stdout",
          "text": [
            "[32 50 68]\n"
          ]
        }
      ]
    },
    {
      "cell_type": "markdown",
      "source": [
        "Создать произвольные матрицы и найти их скалярное произведение."
      ],
      "metadata": {
        "id": "2saIQ044u4pG"
      }
    },
    {
      "cell_type": "code",
      "source": [
        "a = np.arange(1, 17).reshape(4, 4)\n",
        "b = np.arange(18, 34).reshape(4, 4)\n",
        "print(np.dot(a,b))"
      ],
      "metadata": {
        "id": "J-K9bhT8u4pa",
        "colab": {
          "base_uri": "https://localhost:8080/"
        },
        "outputId": "f691a661-ff1b-4031-ab63-06531743abc6"
      },
      "execution_count": 47,
      "outputs": [
        {
          "output_type": "stream",
          "name": "stdout",
          "text": [
            "[[ 260  270  280  290]\n",
            " [ 644  670  696  722]\n",
            " [1028 1070 1112 1154]\n",
            " [1412 1470 1528 1586]]\n"
          ]
        }
      ]
    },
    {
      "cell_type": "markdown",
      "source": [
        "Найти корни уравнения вида $5 \\cdot x^2 + 2 \\cdot x = 3$"
      ],
      "metadata": {
        "id": "rf1GYP5e2jU8"
      }
    },
    {
      "cell_type": "code",
      "source": [
        "a = [5, 2, -3]\n",
        "print(np.roots(a))\n"
      ],
      "metadata": {
        "id": "8Pd0TviUugou",
        "colab": {
          "base_uri": "https://localhost:8080/"
        },
        "outputId": "66d89dfc-94ae-41da-81d3-ee6f6006b62d"
      },
      "execution_count": 48,
      "outputs": [
        {
          "output_type": "stream",
          "name": "stdout",
          "text": [
            "[-1.   0.6]\n"
          ]
        }
      ]
    },
    {
      "cell_type": "markdown",
      "source": [
        "Решить систему уравнений\n",
        "\n",
        "\\begin{matrix}\n",
        "2 \\cdot x_1 + 5 \\cdot x_2 = 1\n",
        "\\\\ x_1 - 10 \\cdot x_2 = 3\n",
        "\\end{matrix}"
      ],
      "metadata": {
        "id": "9PStjQs_mloj"
      }
    },
    {
      "cell_type": "code",
      "source": [
        "a = np.array([[2, 5],\n",
        "              [1, -10]])\n",
        "b = np.array([1, 3])\n",
        "print(np.linalg.inv(a).dot(b))\n",
        "print(np.linalg.solve(a, b))"
      ],
      "metadata": {
        "id": "4vZ9Flu3uids",
        "colab": {
          "base_uri": "https://localhost:8080/"
        },
        "outputId": "a806908e-bb75-4d3f-b839-37a0a52a8547"
      },
      "execution_count": 53,
      "outputs": [
        {
          "output_type": "stream",
          "name": "stdout",
          "text": [
            "[ 1.  -0.2]\n",
            "[ 1.  -0.2]\n"
          ]
        }
      ]
    },
    {
      "cell_type": "markdown",
      "source": [
        "Решить систему уравнений\n",
        "\n",
        "\\begin{matrix}\n",
        "x_1 + x_3 = 2\n",
        "\\\\\n",
        "-x_1 + x_2 - 2 \\cdot x_3 + x_4 = -2\n",
        "\\\\\n",
        "4 \\cdot x_1 + x_3 - 2 \\cdot x_4 = 0\n",
        "\\\\\n",
        "-4 \\cdot x_1 + 4 \\cdot x_2 + x_4 = 5\n",
        "\\end{matrix}\n"
      ],
      "metadata": {
        "id": "A2_Dzma4nZBU"
      }
    },
    {
      "cell_type": "code",
      "source": [
        "a = np.array([[1, 0, 1, 0],\n",
        "             [-1, 1, -2, 1],\n",
        "             [4, 0, 1, -2],\n",
        "             [-4, 4, 0, 1]])\n",
        "b = np.array([2, -2, 0, 5])\n",
        "print(np.linalg.solve(a, b))\n",
        "print(np.linalg.inv(a).dot(b))"
      ],
      "metadata": {
        "id": "7PeIztMYukN-",
        "colab": {
          "base_uri": "https://localhost:8080/"
        },
        "outputId": "72ab6d5f-b74d-414f-a917-461ce841b3d3"
      },
      "execution_count": 55,
      "outputs": [
        {
          "output_type": "stream",
          "name": "stdout",
          "text": [
            "[0. 1. 2. 1.]\n",
            "[0. 1. 2. 1.]\n"
          ]
        }
      ]
    }
  ]
}