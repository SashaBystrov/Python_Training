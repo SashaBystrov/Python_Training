{
  "nbformat": 4,
  "nbformat_minor": 0,
  "metadata": {
    "colab": {
      "provenance": [],
      "toc_visible": true
    },
    "kernelspec": {
      "name": "python3",
      "display_name": "Python 3"
    },
    "language_info": {
      "name": "python"
    }
  },
  "cells": [
    {
      "cell_type": "markdown",
      "source": [
        "# **Решение задач по основам языка Python**"
      ],
      "metadata": {
        "id": "xhiBWD1rAoxV"
      }
    },
    {
      "cell_type": "markdown",
      "source": [
        "# Арифметические операции"
      ],
      "metadata": {
        "id": "3BU9_pZ7e8NO"
      }
    },
    {
      "cell_type": "markdown",
      "source": [
        "Напишите программу, которая считывает три целых числа и выводит на экран их сумму."
      ],
      "metadata": {
        "id": "uy7plloT_qeB"
      }
    },
    {
      "cell_type": "code",
      "source": [
        "n1, n2, n3 = map(int, input().split())\n",
        "print(n1 + n2 + n3)"
      ],
      "metadata": {
        "id": "58bX5D3rdUHs",
        "colab": {
          "base_uri": "https://localhost:8080/"
        },
        "outputId": "940424ff-9a05-4b63-946d-3d577b5c39ee"
      },
      "execution_count": null,
      "outputs": [
        {
          "output_type": "stream",
          "name": "stdout",
          "text": [
            "1 2 3\n",
            "6\n"
          ]
        }
      ]
    },
    {
      "cell_type": "markdown",
      "source": [
        "Напишите программу, которая считывает целое число, после чего на экран выводится следующее и предыдущее целые числа с пояснительным текстом."
      ],
      "metadata": {
        "id": "oibazA5XAEbq"
      }
    },
    {
      "cell_type": "code",
      "source": [
        "n = int(input())\n",
        "print(f'Предыдущее: {n-1}, Текущее: {n}, Следующее: {n+1}')"
      ],
      "metadata": {
        "id": "KcS7csKwd309",
        "colab": {
          "base_uri": "https://localhost:8080/"
        },
        "outputId": "4288f48f-d887-47aa-d32c-1f41a4d1cbda"
      },
      "execution_count": null,
      "outputs": [
        {
          "output_type": "stream",
          "name": "stdout",
          "text": [
            "5\n",
            "Предыдущее: 4, Текущее: 5, Следующее: 6\n"
          ]
        }
      ]
    },
    {
      "cell_type": "markdown",
      "source": [
        "Напишите программу, которая считывает целое положительное число $a$ и выводит на экран последовательность чисел $a$, $2a$, $3a$, $4a$, $5a$, разделённых запятыми."
      ],
      "metadata": {
        "id": "zxsUqMtgAZ-r"
      }
    },
    {
      "cell_type": "code",
      "source": [
        "n = int(input())\n",
        "print(n, 2*n, 3*n, 4*n, 5*n, sep=', ')"
      ],
      "metadata": {
        "id": "ZFXk-1YQd-Ra",
        "colab": {
          "base_uri": "https://localhost:8080/"
        },
        "outputId": "90f78f1e-16fd-4a76-b716-dfd5371f9647"
      },
      "execution_count": 1,
      "outputs": [
        {
          "output_type": "stream",
          "name": "stdout",
          "text": [
            "2\n",
            "2, 4, 6, 8, 10\n"
          ]
        }
      ]
    },
    {
      "cell_type": "markdown",
      "source": [
        "Напишите программу, которая находит полное число метров по заданному числу сантиметров."
      ],
      "metadata": {
        "id": "A0bfx7YMA6RI"
      }
    },
    {
      "cell_type": "code",
      "source": [
        "print(f'{int(input()) // 100} м')"
      ],
      "metadata": {
        "id": "WGlqm29NeEcq",
        "colab": {
          "base_uri": "https://localhost:8080/"
        },
        "outputId": "cce56212-6462-44b2-f951-14aab7f3cfe4"
      },
      "execution_count": 6,
      "outputs": [
        {
          "output_type": "stream",
          "name": "stdout",
          "text": [
            "4893843\n",
            "48938 м\n"
          ]
        }
      ]
    },
    {
      "cell_type": "markdown",
      "source": [
        "Напишите программу для пересчёта величины временного интервала, заданного в минутах, в величину, выраженную в часах и минутах."
      ],
      "metadata": {
        "id": "Z1DDjv0oBUwZ"
      }
    },
    {
      "cell_type": "code",
      "source": [
        "n = int(input())\n",
        "print(f'Hours: {n // 60} Minutes: {n - (n // 60)*60}')"
      ],
      "metadata": {
        "id": "T3pvzg_8eIYg",
        "colab": {
          "base_uri": "https://localhost:8080/"
        },
        "outputId": "1186342c-5c25-47d6-ab21-f91f5a38408e"
      },
      "execution_count": 7,
      "outputs": [
        {
          "output_type": "stream",
          "name": "stdout",
          "text": [
            "748\n",
            "Hours: 12 Minutes: 28\n"
          ]
        }
      ]
    },
    {
      "cell_type": "markdown",
      "source": [
        "Напишите программу, в которой рассчитывается сумму и произведение цифр положительного трёхзначного числа."
      ],
      "metadata": {
        "id": "6HWvXvYvBz96"
      }
    },
    {
      "cell_type": "code",
      "source": [
        "n = list(input())\n",
        "sum = 0\n",
        "pr = 1\n",
        "if int(n[0]) > 0:\n",
        "    for i in range(len(n)):\n",
        "        sum += int(n[i])\n",
        "        pr *= int(n[i])\n",
        "print(sum, pr)"
      ],
      "metadata": {
        "id": "MZUd92v9er-A",
        "colab": {
          "base_uri": "https://localhost:8080/"
        },
        "outputId": "f2e90797-2ee6-472b-d25f-7933d11bae2d"
      },
      "execution_count": 8,
      "outputs": [
        {
          "output_type": "stream",
          "name": "stdout",
          "text": [
            "344\n",
            "11 48\n"
          ]
        }
      ]
    },
    {
      "cell_type": "markdown",
      "source": [
        "# Условный оператор if и логические операции"
      ],
      "metadata": {
        "id": "FPUJ54Cxe1cm"
      }
    },
    {
      "cell_type": "markdown",
      "source": [
        "Напишите программу, которая реализует деление 2-х чисел и возведение результата в куб. На вход подаются любые 2 числа. Если в знаменателе введут ноль, то результат будет следующим: «На ноль делить нельзя». В противном случае выводится итог деления чисел, возведенный в куб."
      ],
      "metadata": {
        "id": "25SvKDWBpgwV"
      }
    },
    {
      "cell_type": "code",
      "source": [
        "n1, n2 = map(int, input().split())\n",
        "if n2 == 0:\n",
        "    print('На ноль делить нельзя')\n",
        "else:\n",
        "    result = n1 / n2\n",
        "    print(f'Результат {result**3}')"
      ],
      "metadata": {
        "id": "TYnae-EffAyh",
        "colab": {
          "base_uri": "https://localhost:8080/"
        },
        "outputId": "3082cd14-7e52-48f3-f93e-27a01bb0951f"
      },
      "execution_count": null,
      "outputs": [
        {
          "output_type": "stream",
          "name": "stdout",
          "text": [
            "45 9\n",
            "Результат 125.0\n"
          ]
        }
      ]
    },
    {
      "cell_type": "markdown",
      "source": [
        "Напишите программу, которая сравнивает пароль и его подтверждение. Если они совпадают, то программа выводит: «Пароль принят», иначе: «Пароль не принят»."
      ],
      "metadata": {
        "id": "ViSID-p-YJvV"
      }
    },
    {
      "cell_type": "code",
      "source": [
        "password = str(input())\n",
        "new_pass = str(input())\n",
        "if new_pass == password:\n",
        "    print('Пароль принят')\n",
        "else:\n",
        "    print('Пароль не принят')\n"
      ],
      "metadata": {
        "id": "1AdR4cd8fG7u",
        "colab": {
          "base_uri": "https://localhost:8080/"
        },
        "outputId": "288bf3e6-6c3b-4bc5-8cd8-95ddb9e36ee3"
      },
      "execution_count": null,
      "outputs": [
        {
          "output_type": "stream",
          "name": "stdout",
          "text": [
            "hello\n",
            "hello\n",
            "Пароль принят\n"
          ]
        }
      ]
    },
    {
      "cell_type": "markdown",
      "source": [
        "Напишите программу, которая определяет, разрешен пользователю доступ к интернет-ресурсу или нет. На вход программе подаётся целое число — возраст пользователя. Программа должна вывести текст «Доступ разрешен» если возраст не менее 18, и «Доступ запрещен» в противном случае."
      ],
      "metadata": {
        "id": "MI8h_t4vYbdr"
      }
    },
    {
      "cell_type": "code",
      "source": [
        "n = int(input())\n",
        "if n >= 18:\n",
        "    print('Доступ разрешен')\n",
        "else:\n",
        "    print('Доступ запрещен')"
      ],
      "metadata": {
        "id": "cgyNu4YlfM6W",
        "colab": {
          "base_uri": "https://localhost:8080/"
        },
        "outputId": "b7c1edd5-dd3f-4313-d9c0-dabebdd1e42f"
      },
      "execution_count": null,
      "outputs": [
        {
          "output_type": "stream",
          "name": "stdout",
          "text": [
            "19\n",
            "Доступ разрешен\n"
          ]
        }
      ]
    },
    {
      "cell_type": "markdown",
      "source": [
        "Напишите программу, которая принимает целое число $a$ и определяет, принадлежит ли это число интервалу $(-1; 17)$."
      ],
      "metadata": {
        "id": "uekGXZ-TYzvd"
      }
    },
    {
      "cell_type": "code",
      "source": [
        "a = int(input())\n",
        "if a > -1 and a < 18:\n",
        "    print('ДА')\n",
        "else:\n",
        "    print('НЕТ')"
      ],
      "metadata": {
        "id": "u-y-TP1FfWdT",
        "colab": {
          "base_uri": "https://localhost:8080/"
        },
        "outputId": "e4de05ff-493f-4db8-f39e-05e3c7e6d18b"
      },
      "execution_count": null,
      "outputs": [
        {
          "output_type": "stream",
          "name": "stdout",
          "text": [
            "-20\n",
            "НЕТ\n"
          ]
        }
      ]
    },
    {
      "cell_type": "markdown",
      "source": [
        "Напишите программу, которая принимает целое число $a$ и определяет, принадлежит ли это число интервалам $(-\\infty; -3]$ и $[7; \\infty)$."
      ],
      "metadata": {
        "id": "f4eLFVeuZA-x"
      }
    },
    {
      "cell_type": "code",
      "source": [
        "a = int(input())\n",
        "if a < -3 and a > 7:\n",
        "    print('ДА')\n",
        "else:\n",
        "    print('НЕТ')"
      ],
      "metadata": {
        "id": "OhMo_tDNfY3A",
        "colab": {
          "base_uri": "https://localhost:8080/"
        },
        "outputId": "212ca194-000b-4de7-a501-92eff367d6de"
      },
      "execution_count": null,
      "outputs": [
        {
          "output_type": "stream",
          "name": "stdout",
          "text": [
            "0\n",
            "НЕТ\n"
          ]
        }
      ]
    },
    {
      "cell_type": "markdown",
      "source": [
        "Напишите программу, которая принимает целое число $a$ и определяет, принадлежит ли это число интервалам $(-25; -4]$ и $(7; 31]$."
      ],
      "metadata": {
        "id": "O6HddXRmZVya"
      }
    },
    {
      "cell_type": "code",
      "source": [
        "a = int(input())\n",
        "if (a > -25 and a <= -4) or (a > 7 and a <= 31):\n",
        "    print('ДА')\n",
        "else:\n",
        "    print('НЕТ')"
      ],
      "metadata": {
        "id": "4lGj6_pdfaos",
        "colab": {
          "base_uri": "https://localhost:8080/"
        },
        "outputId": "af66396b-9162-4c3b-ba52-3295c543db57"
      },
      "execution_count": null,
      "outputs": [
        {
          "output_type": "stream",
          "name": "stdout",
          "text": [
            "30\n",
            "ДА\n"
          ]
        }
      ]
    },
    {
      "cell_type": "markdown",
      "source": [
        "Напишите программу, которая считывает с клавиатуры два целых числа и строку. Если эта строка является обозначением одной из четырёх математических операций (+, -, *, /), то выведите результат применения этой операции к введённым ранее числам, в противном случае выведите «Неверная операция». Если пользователь захочет поделить на ноль, выведите текст «На ноль делить нельзя!»."
      ],
      "metadata": {
        "id": "8Jp4Lk6OZs2m"
      }
    },
    {
      "cell_type": "code",
      "source": [
        "a, b = map(int, input().split())\n",
        "str_value = input()\n",
        "if str_value == '*':\n",
        "  print(a*b)\n",
        "elif str_value == '-':\n",
        "  print(a-b)\n",
        "elif str_value == '+':\n",
        "  print(a+b)\n",
        "elif str_value == '/':\n",
        "  if b == 0:\n",
        "    print('На ноль делить нельзя!')\n",
        "  else:\n",
        "    print(a/b)\n",
        "\n",
        "# Method 2\n",
        "a, b = map(str, input().split())\n",
        "str_value = input()\n",
        "matematic_operators = ['*', '+', '-', '/']\n",
        "if str_value in matematic_operators:\n",
        "  for operator in matematic_operators:\n",
        "    if str_value == operator and ( (operator == '/' and b != '0') or operator != '/'):\n",
        "      print(eval(a+operator+b))"
      ],
      "metadata": {
        "id": "Vrtflo7rfooc",
        "colab": {
          "base_uri": "https://localhost:8080/"
        },
        "outputId": "890b95f6-0603-416d-cb59-1b8a39c6cf87"
      },
      "execution_count": 15,
      "outputs": [
        {
          "output_type": "stream",
          "name": "stdout",
          "text": [
            "20 40\n",
            "-\n",
            "-20\n",
            "20 40\n",
            "-\n",
            "-20\n"
          ]
        }
      ]
    },
    {
      "cell_type": "markdown",
      "source": [
        "# Списки"
      ],
      "metadata": {
        "id": "uD7yiFlSfQXv"
      }
    },
    {
      "cell_type": "markdown",
      "source": [
        "1. Создать список, содержащий значения 1, 2, 3, 4, 5, 6, 7."
      ],
      "metadata": {
        "id": "1GEr__qXfcWl"
      }
    },
    {
      "cell_type": "code",
      "source": [
        "massive = [i for i in range(1,8)]\n",
        "#massive = [1, 2, 3, 4, 5, 6, 7]\n",
        "print(massive)"
      ],
      "metadata": {
        "id": "B9ft57h2gEo9",
        "colab": {
          "base_uri": "https://localhost:8080/"
        },
        "outputId": "c82d1f51-fffb-4bee-8039-836f24dc4a44"
      },
      "execution_count": 27,
      "outputs": [
        {
          "output_type": "stream",
          "name": "stdout",
          "text": [
            "[1, 2, 3, 4, 5, 6, 7]\n"
          ]
        }
      ]
    },
    {
      "cell_type": "markdown",
      "source": [
        "Добавить в список новый элемент \"Строка\" типа `str` в конец списка."
      ],
      "metadata": {
        "id": "apA4GTu1shfg"
      }
    },
    {
      "cell_type": "code",
      "source": [
        "massive.append('Строка')\n",
        "#massive += ['Строка']\n",
        "print(massive)"
      ],
      "metadata": {
        "id": "zObDg9mZgLIQ",
        "colab": {
          "base_uri": "https://localhost:8080/"
        },
        "outputId": "66ac5738-c84f-477b-d235-0f829740c157"
      },
      "execution_count": 28,
      "outputs": [
        {
          "output_type": "stream",
          "name": "stdout",
          "text": [
            "[1, 2, 3, 4, 5, 6, 7, 'Строка']\n"
          ]
        }
      ]
    },
    {
      "cell_type": "markdown",
      "source": [
        "Изменить значение элемента списка с индексом 4 на 777."
      ],
      "metadata": {
        "id": "g6G4-7u7sm8w"
      }
    },
    {
      "cell_type": "code",
      "source": [
        "massive[4] = 777\n",
        "print(massive)"
      ],
      "metadata": {
        "id": "A79xujh1gOff",
        "colab": {
          "base_uri": "https://localhost:8080/"
        },
        "outputId": "53ac9869-39a6-4ccb-b5b8-71a2a792a6fe"
      },
      "execution_count": 30,
      "outputs": [
        {
          "output_type": "stream",
          "name": "stdout",
          "text": [
            "[1, 2, 3, 4, 777, 5, 6, 7, 'Строка']\n"
          ]
        }
      ]
    },
    {
      "cell_type": "markdown",
      "source": [
        "Добавить новый элемент 57 в конец списка."
      ],
      "metadata": {
        "id": "7SR6nOdGstiW"
      }
    },
    {
      "cell_type": "code",
      "source": [
        "massive.append(57)\n",
        "#massive += [57]\n",
        "print(massive)"
      ],
      "metadata": {
        "id": "EKWJ8s5TgUsk",
        "colab": {
          "base_uri": "https://localhost:8080/"
        },
        "outputId": "ffeacc96-ba41-48fa-a9da-0f75099a235e"
      },
      "execution_count": 32,
      "outputs": [
        {
          "output_type": "stream",
          "name": "stdout",
          "text": [
            "[1, 2, 3, 4, 777, 5, 6, 7, 'Строка', 57]\n"
          ]
        }
      ]
    },
    {
      "cell_type": "markdown",
      "source": [
        "Получить элемент списка с индексом 2."
      ],
      "metadata": {
        "id": "Tpmj9uujsxy8"
      }
    },
    {
      "cell_type": "code",
      "source": [
        "print(massive[2])"
      ],
      "metadata": {
        "id": "YHFPHXalgXME",
        "colab": {
          "base_uri": "https://localhost:8080/"
        },
        "outputId": "b522bf44-de5c-4b07-cbd5-ab125481f837"
      },
      "execution_count": null,
      "outputs": [
        {
          "output_type": "stream",
          "name": "stdout",
          "text": [
            "3\n"
          ]
        }
      ]
    },
    {
      "cell_type": "markdown",
      "source": [
        "Получить последний элемент списка."
      ],
      "metadata": {
        "id": "M7WyRWv7s6NO"
      }
    },
    {
      "cell_type": "code",
      "source": [
        "print(massive[-1])"
      ],
      "metadata": {
        "id": "v0V8YvFdgZIH",
        "colab": {
          "base_uri": "https://localhost:8080/"
        },
        "outputId": "094a38e6-1453-466a-9f27-3ac7474c5661"
      },
      "execution_count": null,
      "outputs": [
        {
          "output_type": "stream",
          "name": "stdout",
          "text": [
            "57\n"
          ]
        }
      ]
    },
    {
      "cell_type": "markdown",
      "source": [
        "Удалить элемент списка 4."
      ],
      "metadata": {
        "id": "a59bvti8s9UZ"
      }
    },
    {
      "cell_type": "code",
      "source": [
        "massive.remove(4)\n",
        "print(massive)"
      ],
      "metadata": {
        "id": "pVA3nlrJgerz",
        "colab": {
          "base_uri": "https://localhost:8080/"
        },
        "outputId": "32f308de-1413-4f57-ab18-44493d627385"
      },
      "execution_count": 34,
      "outputs": [
        {
          "output_type": "stream",
          "name": "stdout",
          "text": [
            "[1, 2, 3, 5, 6, 7, 'Строка', 57]\n"
          ]
        }
      ]
    },
    {
      "cell_type": "markdown",
      "source": [
        "Найти число повторений элемента списка со значением 3."
      ],
      "metadata": {
        "id": "dCiBXelUtFQs"
      }
    },
    {
      "cell_type": "code",
      "source": [
        "print(massive.count(3))"
      ],
      "metadata": {
        "id": "ehx_-nNHghW1",
        "colab": {
          "base_uri": "https://localhost:8080/"
        },
        "outputId": "afa0c050-9706-435d-d65b-63e25dc68566"
      },
      "execution_count": null,
      "outputs": [
        {
          "output_type": "stream",
          "name": "stdout",
          "text": [
            "1\n"
          ]
        }
      ]
    },
    {
      "cell_type": "markdown",
      "source": [
        "Представить список в обратном порядке:\n",
        "- с помощью срезов;\n",
        "- с помощью метода `reverse()`."
      ],
      "metadata": {
        "id": "OFE8Cf88tI5i"
      }
    },
    {
      "cell_type": "code",
      "source": [
        "print(massive[::-1])"
      ],
      "metadata": {
        "id": "z2UN3Khjgm_3",
        "colab": {
          "base_uri": "https://localhost:8080/"
        },
        "outputId": "95064e6b-6a07-4db4-f1a1-1ae369b759b6"
      },
      "execution_count": null,
      "outputs": [
        {
          "output_type": "stream",
          "name": "stdout",
          "text": [
            "[57, 'Строка', 7, 6, 777, 3, 2, 1]\n"
          ]
        }
      ]
    },
    {
      "cell_type": "code",
      "source": [
        "massive.reverse()\n",
        "print(massive)"
      ],
      "metadata": {
        "id": "IFlOfAZQgzNi",
        "colab": {
          "base_uri": "https://localhost:8080/"
        },
        "outputId": "405975cd-24f0-42db-839e-bcadac46a8ec"
      },
      "execution_count": null,
      "outputs": [
        {
          "output_type": "stream",
          "name": "stdout",
          "text": [
            "[57, 'Строка', 7, 6, 777, 3, 2, 1]\n"
          ]
        }
      ]
    },
    {
      "cell_type": "markdown",
      "source": [
        "Вывести каждый 3 элемент списка начиная с первого и заканчивая предпоследним."
      ],
      "metadata": {
        "id": "wAngvSOl1Njc"
      }
    },
    {
      "cell_type": "code",
      "source": [
        "print(massive[1:-2:3])"
      ],
      "metadata": {
        "id": "STkL2oXkg47G",
        "colab": {
          "base_uri": "https://localhost:8080/"
        },
        "outputId": "3053830e-2a9a-4e9d-d92d-16cd97d9d67b"
      },
      "execution_count": null,
      "outputs": [
        {
          "output_type": "stream",
          "name": "stdout",
          "text": [
            "['Строка', 777]\n"
          ]
        }
      ]
    },
    {
      "cell_type": "markdown",
      "source": [
        "# Словари"
      ],
      "metadata": {
        "id": "-fm2GzBrwIOk"
      }
    },
    {
      "cell_type": "markdown",
      "source": [
        "Создать словарь вида {'ID1': 'Иванов', 'ID2': 'Петров', 'ID3': 'Николаев', 'ID4': 'Сидоров'}."
      ],
      "metadata": {
        "id": "kNzUBbPodYp2"
      }
    },
    {
      "cell_type": "code",
      "source": [
        "gl = {'ID1' : 'Иванов',\n",
        "      'ID2' : 'Петров',\n",
        "      'ID3' : 'Николаев',\n",
        "      'ID4' : 'Сидоров'\n",
        "      }"
      ],
      "metadata": {
        "id": "bBTWw1oIg8Ne"
      },
      "execution_count": 36,
      "outputs": []
    },
    {
      "cell_type": "markdown",
      "source": [
        "Добавить в словарь новый элемент с ключом \"ID5\" и значением \"Васин\"."
      ],
      "metadata": {
        "id": "5dI4utqNxOSr"
      }
    },
    {
      "cell_type": "code",
      "source": [
        "gl['ID5'] = 'Васин'\n",
        "print(gl)"
      ],
      "metadata": {
        "id": "CIoOJaGHg_pq",
        "colab": {
          "base_uri": "https://localhost:8080/"
        },
        "outputId": "a7d5ef76-e01f-48cc-d87f-0158e258c734"
      },
      "execution_count": null,
      "outputs": [
        {
          "output_type": "stream",
          "name": "stdout",
          "text": [
            "{'ID1': 'Иванов', 'ID2': 'Петров', 'ID3': 'Николаев', 'ID4': 'Сидоров', 'ID5': 'Васин'}\n"
          ]
        }
      ]
    },
    {
      "cell_type": "markdown",
      "source": [
        "Изменить значение словаря по ключу \"ID1\" на \"Смирнов\"."
      ],
      "metadata": {
        "id": "X8mTS0nIyAAi"
      }
    },
    {
      "cell_type": "code",
      "source": [
        "gl['ID1'] = 'Смирнов'\n",
        "print(gl)"
      ],
      "metadata": {
        "id": "bUA03bOEhBgJ",
        "colab": {
          "base_uri": "https://localhost:8080/"
        },
        "outputId": "61efa817-d27b-425f-ece3-7bb55bd75c4b"
      },
      "execution_count": null,
      "outputs": [
        {
          "output_type": "stream",
          "name": "stdout",
          "text": [
            "{'ID1': 'Смирнов', 'ID2': 'Петров', 'ID3': 'Николаев', 'ID4': 'Сидоров', 'ID5': 'Васин'}\n"
          ]
        }
      ]
    },
    {
      "cell_type": "markdown",
      "source": [
        "Удалить элемент словаря с ключом \"ID2\"."
      ],
      "metadata": {
        "id": "T_j-4wadydeB"
      }
    },
    {
      "cell_type": "code",
      "source": [
        "#del gl['ID2']\n",
        "gl.pop('ID2')\n",
        "print(gl)"
      ],
      "metadata": {
        "id": "IVYHdoLLhJBZ",
        "colab": {
          "base_uri": "https://localhost:8080/"
        },
        "outputId": "3d41426f-dfdf-486e-801b-3b582d118267"
      },
      "execution_count": 37,
      "outputs": [
        {
          "output_type": "stream",
          "name": "stdout",
          "text": [
            "Петров\n",
            "{'ID1': 'Иванов', 'ID3': 'Николаев', 'ID4': 'Сидоров'}\n"
          ]
        }
      ]
    },
    {
      "cell_type": "markdown",
      "source": [
        "# Строки"
      ],
      "metadata": {
        "id": "KQr95SLt0JmF"
      }
    },
    {
      "cell_type": "markdown",
      "source": [
        "Создать переменную типа `str` и присвоить ей значение \"Python - лучший язык для анализа данных\"."
      ],
      "metadata": {
        "id": "sICnGZIf2XyW"
      }
    },
    {
      "cell_type": "code",
      "source": [
        "stroka = 'Python - лучший язык для анализа данных'\n",
        "print(stroka)"
      ],
      "metadata": {
        "id": "sfX3nmtIhgNa",
        "colab": {
          "base_uri": "https://localhost:8080/"
        },
        "outputId": "17927953-c87d-4557-c67d-e11588bc2dc8"
      },
      "execution_count": 38,
      "outputs": [
        {
          "output_type": "stream",
          "name": "stdout",
          "text": [
            "Python - лучший язык для анализа данных\n"
          ]
        }
      ]
    },
    {
      "cell_type": "markdown",
      "source": [
        "Добавить в предложение текст \"по индексу TIOBE\"."
      ],
      "metadata": {
        "id": "T5NpjXq03Al0"
      }
    },
    {
      "cell_type": "code",
      "source": [
        "stroka += ' по индексу IOBE'\n",
        "print(stroka)"
      ],
      "metadata": {
        "id": "dMTrPv4lhlBa",
        "colab": {
          "base_uri": "https://localhost:8080/"
        },
        "outputId": "75c52241-21c1-4bc5-dda5-f48b0e2e306d"
      },
      "execution_count": null,
      "outputs": [
        {
          "output_type": "stream",
          "name": "stdout",
          "text": [
            "Python - лучший язык для анализа данных по индексу IOBE\n"
          ]
        }
      ]
    },
    {
      "cell_type": "markdown",
      "source": [
        "Вывести 3-ю букву предложения."
      ],
      "metadata": {
        "id": "ijzFhHwg901w"
      }
    },
    {
      "cell_type": "code",
      "source": [
        "print(stroka[2])"
      ],
      "metadata": {
        "id": "WU_xGl7Yh264",
        "colab": {
          "base_uri": "https://localhost:8080/"
        },
        "outputId": "85db0606-dc09-486c-bb6a-1316eda0713d"
      },
      "execution_count": null,
      "outputs": [
        {
          "output_type": "stream",
          "name": "stdout",
          "text": [
            "t\n"
          ]
        }
      ]
    },
    {
      "cell_type": "markdown",
      "source": [
        "Вывести первые 20 букв с шагом 2."
      ],
      "metadata": {
        "id": "hBbxhvqF9_Kp"
      }
    },
    {
      "cell_type": "code",
      "source": [
        "print(stroka[:20:2])"
      ],
      "metadata": {
        "id": "mq1NZVaUh_jy",
        "colab": {
          "base_uri": "https://localhost:8080/"
        },
        "outputId": "ba2f82b8-1275-4b59-9fcf-7cadc586b000"
      },
      "execution_count": null,
      "outputs": [
        {
          "output_type": "stream",
          "name": "stdout",
          "text": [
            "Pto  ушйяы\n"
          ]
        }
      ]
    },
    {
      "cell_type": "markdown",
      "source": [
        "Сделать все буквы в слове Python прописными."
      ],
      "metadata": {
        "id": "DCXPRNHp-sMY"
      }
    },
    {
      "cell_type": "code",
      "source": [
        "print(stroka.lower())"
      ],
      "metadata": {
        "id": "2Ec-qIIpiF08",
        "colab": {
          "base_uri": "https://localhost:8080/"
        },
        "outputId": "62016d9b-7578-40e4-c6ed-add92d17ff31"
      },
      "execution_count": null,
      "outputs": [
        {
          "output_type": "stream",
          "name": "stdout",
          "text": [
            "python - лучший язык для анализа данных по индексу iobe\n"
          ]
        }
      ]
    },
    {
      "cell_type": "markdown",
      "source": [
        "Проверить, есть ли в строке слово \"PYTHON\". Если да, то напечатать \"Слово встречается в предложении\". В противном случае - \"Такого слова в предложении нет\"."
      ],
      "metadata": {
        "id": "KP-4cCFsBraP"
      }
    },
    {
      "cell_type": "code",
      "source": [
        "if 'PYTHON' in stroka:\n",
        "    print(\"Слово встречается в предложении\")\n",
        "else:\n",
        "    print(\"Такого слова в предложении нет\")\n",
        "\n",
        "# Method 2\n",
        "if stroka.find('PYTHON') != -1:\n",
        "  print(\"Слово встречается в предложении\")\n",
        "else:\n",
        "    print(\"Такого слова в предложении нет\")"
      ],
      "metadata": {
        "id": "JWgOVAfLiL9n",
        "colab": {
          "base_uri": "https://localhost:8080/"
        },
        "outputId": "7656821a-3a91-408a-fba0-aa485f3280c2"
      },
      "execution_count": 39,
      "outputs": [
        {
          "output_type": "stream",
          "name": "stdout",
          "text": [
            "Такого слова в предложении нет\n",
            "Такого слова в предложении нет\n"
          ]
        }
      ]
    },
    {
      "cell_type": "markdown",
      "source": [
        "Сформировать список, включающий все слова предложения."
      ],
      "metadata": {
        "id": "9eSejpU_DAze"
      }
    },
    {
      "cell_type": "code",
      "source": [
        "massive = list(stroka.split(' '))\n",
        "print(massive)"
      ],
      "metadata": {
        "id": "QqlaM83BiR6u",
        "colab": {
          "base_uri": "https://localhost:8080/"
        },
        "outputId": "af9c8ffe-4605-46d4-98c7-9c2f207c2959"
      },
      "execution_count": null,
      "outputs": [
        {
          "output_type": "stream",
          "name": "stdout",
          "text": [
            "['Python', '-', 'лучший', 'язык', 'для', 'анализа', 'данных', 'по', 'индексу', 'IOBE']\n"
          ]
        }
      ]
    },
    {
      "cell_type": "markdown",
      "source": [
        "Заданые строки необходимо объединить их в одно предложение."
      ],
      "metadata": {
        "id": "eYsZa_Z-khXB"
      }
    },
    {
      "cell_type": "code",
      "source": [
        "s1 = 'Анализ'\n",
        "s2 = 'данных'\n",
        "s3 = 'и'\n",
        "s4 = 'машинное'\n",
        "s5 = 'обучение'"
      ],
      "metadata": {
        "id": "sOoidinskhyV"
      },
      "execution_count": 41,
      "outputs": []
    },
    {
      "cell_type": "code",
      "source": [
        "print(f'{s1} {s2} {s3} {s4} {s5}')"
      ],
      "metadata": {
        "id": "7Px2broJkefM",
        "colab": {
          "base_uri": "https://localhost:8080/"
        },
        "outputId": "509398b7-e527-4e5c-e857-9b379101cd34"
      },
      "execution_count": 43,
      "outputs": [
        {
          "output_type": "stream",
          "name": "stdout",
          "text": [
            "Анализ данных и машинное обучение\n"
          ]
        }
      ]
    },
    {
      "cell_type": "markdown",
      "source": [
        "# Циклы"
      ],
      "metadata": {
        "id": "oRGceLPPvIz1"
      }
    },
    {
      "cell_type": "markdown",
      "source": [
        "Написать программу вычисляющую сумму чисел от 0 до $n$. Число $n$ вводится пользователем с клавиатуры."
      ],
      "metadata": {
        "id": "DQvH9vLUvM4q"
      }
    },
    {
      "cell_type": "code",
      "source": [
        "n = int(input())\n",
        "masive = [i for i in range(n+1)]\n",
        "sum = 0\n",
        "for i in masive:\n",
        "  sum += i\n",
        "print(sum)"
      ],
      "metadata": {
        "id": "XYlPpliSmE1m",
        "colab": {
          "base_uri": "https://localhost:8080/"
        },
        "outputId": "f59c1f22-7108-40fa-fca5-329c0e6badf5"
      },
      "execution_count": 45,
      "outputs": [
        {
          "output_type": "stream",
          "name": "stdout",
          "text": [
            "100\n",
            "5050\n"
          ]
        }
      ]
    },
    {
      "cell_type": "markdown",
      "source": [
        "Написать программу вычисляющую сумму сумму четных чисел от 0 до $n$. Число $n$ вводится пользователем с клавиатуры."
      ],
      "metadata": {
        "id": "NSIeap1VvuGz"
      }
    },
    {
      "cell_type": "code",
      "source": [
        "n = int(input())\n",
        "masive = [i for i in range(0, n+1, 2)]\n",
        "sum = 0\n",
        "for i in masive:\n",
        "  sum += i\n",
        "print(sum)"
      ],
      "metadata": {
        "id": "mpA6rVlhmH4j",
        "colab": {
          "base_uri": "https://localhost:8080/"
        },
        "outputId": "1ed631a4-74b0-4b7f-c19f-0be913513734"
      },
      "execution_count": null,
      "outputs": [
        {
          "output_type": "stream",
          "name": "stdout",
          "text": [
            "100\n",
            "2550\n"
          ]
        }
      ]
    },
    {
      "cell_type": "markdown",
      "source": [
        "Напечатать числа от 5 до -5."
      ],
      "metadata": {
        "id": "QX5T_Ogq2gQI"
      }
    },
    {
      "cell_type": "code",
      "source": [
        "print([i for i in range(-5, 6)])"
      ],
      "metadata": {
        "id": "qnG7qVKjmMf3",
        "colab": {
          "base_uri": "https://localhost:8080/"
        },
        "outputId": "4e5509fb-8e9f-4bf4-bce4-2680135a7001"
      },
      "execution_count": null,
      "outputs": [
        {
          "output_type": "stream",
          "name": "stdout",
          "text": [
            "[-5, -4, -3, -2, -1, 0, 1, 2, 3, 4, 5]\n"
          ]
        }
      ]
    },
    {
      "cell_type": "markdown",
      "source": [
        "Дан список lst = [11, 5, 8, 32, 15, 3, 20, 132, 21, 4, 555, 9, 20].\n",
        "\n",
        "Необходимо вывести элементы, которые одновременно меньше 30 и делятся на 3 без остатка. Все остальные элементы списка необходимо просуммировать и вывести конечный результат."
      ],
      "metadata": {
        "id": "a-n39AeZx3hi"
      }
    },
    {
      "cell_type": "code",
      "source": [
        "lst = [11, 5, 8, 32, 15, 3, 20, 132, 21, 4, 555, 9, 20]\n",
        "sum = 0\n",
        "for i in lst:\n",
        "  sum += i\n",
        "  if i < 30 and i % 3 == 0:\n",
        "    print(i, end=', ')\n",
        "\n",
        "print('sum =', sum)"
      ],
      "metadata": {
        "id": "pgf9SfflmeWb",
        "colab": {
          "base_uri": "https://localhost:8080/"
        },
        "outputId": "c01503ff-4083-4169-fed9-052c7b473e27"
      },
      "execution_count": null,
      "outputs": [
        {
          "output_type": "stream",
          "name": "stdout",
          "text": [
            "15, 3, 21, 9, sum = 835\n"
          ]
        }
      ]
    },
    {
      "cell_type": "markdown",
      "source": [
        "Написать программу, которая перебирает строку, находит в ней все цифры  и выводит их на экран. Можно использовать метод `isdigit()`."
      ],
      "metadata": {
        "id": "P_WhP5n_3Enl"
      }
    },
    {
      "cell_type": "code",
      "source": [
        "str_value = input()\n",
        "for i in str_value:\n",
        "  if i.isdigit():\n",
        "    print(i)"
      ],
      "metadata": {
        "id": "9SsBlVSrmtQz",
        "colab": {
          "base_uri": "https://localhost:8080/"
        },
        "outputId": "05ce9524-3f2b-46e4-c13a-be563abba38a"
      },
      "execution_count": null,
      "outputs": [
        {
          "output_type": "stream",
          "name": "stdout",
          "text": [
            "privet9d\n",
            "9\n"
          ]
        }
      ]
    },
    {
      "cell_type": "markdown",
      "source": [
        "Написать программу, которая удалаяет из заданной строки лишние символы."
      ],
      "metadata": {
        "id": "zwFV1ESS1Py-"
      }
    },
    {
      "cell_type": "code",
      "source": [
        "punctuations = '''!()-[]{};:'\"\\,<>./?@#$%^&*_~'''\n",
        "st = \"Методы!!!, машинного ---обучения.\"\n",
        "\n",
        "s = ''\n",
        "for i in st:\n",
        "    if i not in punctuations:\n",
        "        s += i\n",
        "print(s)"
      ],
      "metadata": {
        "id": "S9q3e8JVm11p",
        "colab": {
          "base_uri": "https://localhost:8080/"
        },
        "outputId": "a0798335-fd8d-49b6-a19c-69cde1e09706"
      },
      "execution_count": null,
      "outputs": [
        {
          "output_type": "stream",
          "name": "stdout",
          "text": [
            "Методы машинного обучения\n"
          ]
        }
      ]
    },
    {
      "cell_type": "markdown",
      "source": [
        "# Функции"
      ],
      "metadata": {
        "id": "yNohLnks3y92"
      }
    },
    {
      "cell_type": "markdown",
      "source": [
        "Написать функцию расчета Евклидова расстояния между двумя точками в $n$-мерном пространстве:\n",
        "\n",
        "$$d = \\sqrt{(x_1-y_1)^2+...+(x_n-y_n)^2}$$"
      ],
      "metadata": {
        "id": "Ya-Tzk7T32Lw"
      }
    },
    {
      "cell_type": "code",
      "source": [
        "import math as m\n",
        "def evklid(n1, n2):\n",
        "    d = m.sqrt((n1 - n2)**2)\n",
        "    return d\n",
        "print(evklid(1, 2))"
      ],
      "metadata": {
        "id": "9-1r1kBonIg2",
        "colab": {
          "base_uri": "https://localhost:8080/"
        },
        "outputId": "49ee0366-4108-4aed-fb97-d192072771b4"
      },
      "execution_count": null,
      "outputs": [
        {
          "output_type": "stream",
          "name": "stdout",
          "text": [
            "1.0\n"
          ]
        }
      ]
    },
    {
      "cell_type": "markdown",
      "source": [
        "Написать функцию вычисления многочлена степени $n$:\n",
        "\n",
        "$$y = c_0+c_1 \\cdot x_1+c_2 \\cdot x_2^2...+c_n \\cdot x_n^n$$\n",
        "\n",
        "На вход функция принимает список коэффициентов (coefficients) и значение аргумента $x$."
      ],
      "metadata": {
        "id": "WbdPYJE6M4DS"
      }
    },
    {
      "cell_type": "code",
      "source": [
        "def mnogochlen(massive, x):\n",
        "    n_massive = [n for n in range(len(massive))]\n",
        "    y = massive[0]\n",
        "    for i in range(1, len(massive)):\n",
        "        y += massive[i]* (x** n_massive[i])\n",
        "    return y\n",
        "print(mnogochlen([2, 2, 4], 2))"
      ],
      "metadata": {
        "id": "_EUQ-Clbntgl",
        "colab": {
          "base_uri": "https://localhost:8080/"
        },
        "outputId": "f9f2818d-b3c8-4770-d192-8a404bcff246"
      },
      "execution_count": null,
      "outputs": [
        {
          "output_type": "stream",
          "name": "stdout",
          "text": [
            "22\n"
          ]
        }
      ]
    },
    {
      "cell_type": "markdown",
      "source": [
        "Написать функцию вычисления квадратов заданных чисел. Использовать функцию `map` и анономную функцию."
      ],
      "metadata": {
        "id": "i2bSRWPCVggf"
      }
    },
    {
      "cell_type": "code",
      "source": [
        "list_elements = [1, 3, 4, 5, 6]\n",
        "func = map(lambda x: x**2, list_elements)\n",
        "print(list(func))"
      ],
      "metadata": {
        "id": "HOh_VJU0n0Gf",
        "colab": {
          "base_uri": "https://localhost:8080/"
        },
        "outputId": "187e5f5b-8bf8-4522-fc59-31af0844141a"
      },
      "execution_count": null,
      "outputs": [
        {
          "output_type": "stream",
          "name": "stdout",
          "text": [
            "[1, 9, 16, 25, 36]\n"
          ]
        }
      ]
    },
    {
      "cell_type": "markdown",
      "source": [
        "Написать функцию фильтрации положительных чисел. Использовать функцию `filter` и анонимную функцию."
      ],
      "metadata": {
        "id": "3Veol6IwWeQP"
      }
    },
    {
      "cell_type": "code",
      "source": [
        "list_elements = [1, -3, 4, -5, 6, 0, -239, 39284, -923]\n",
        "func = filter(lambda x: x>0, list_elements)\n",
        "print(list(func))"
      ],
      "metadata": {
        "id": "ETc1BsbqoBDg",
        "colab": {
          "base_uri": "https://localhost:8080/"
        },
        "outputId": "adc5d875-f05d-4b2a-b20b-645ea350b112"
      },
      "execution_count": null,
      "outputs": [
        {
          "output_type": "stream",
          "name": "stdout",
          "text": [
            "[1, 4, 6, 39284]\n"
          ]
        }
      ]
    }
  ]
}